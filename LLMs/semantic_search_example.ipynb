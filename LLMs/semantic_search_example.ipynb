{
  "nbformat": 4,
  "nbformat_minor": 0,
  "metadata": {
    "colab": {
      "provenance": []
    },
    "kernelspec": {
      "name": "python3",
      "display_name": "Python 3"
    },
    "language_info": {
      "name": "python"
    }
  },
  "cells": [
    {
      "cell_type": "markdown",
      "source": [
        "## Semantic Search with txtai\n",
        "\n",
        "vectorize -> index -> search \n",
        "\n",
        "First, install the txtai package \n",
        "\n",
        "Warning: the data for this example are selected from the Bitter Aloe Project, a research project documenting human rights abuses during apartheid in South Africa. "
      ],
      "metadata": {
        "id": "EjgwvzDEfzEo"
      }
    },
    {
      "cell_type": "code",
      "execution_count": 3,
      "metadata": {
        "id": "pUYreKcNfs-2"
      },
      "outputs": [],
      "source": [
        "%%capture\n",
        "!pip install git+https://github.com/neuml/txtai"
      ]
    },
    {
      "cell_type": "markdown",
      "source": [
        "The original data set contains 21,000+ documents which would take a long time to train. So for the sake for this example, I'll use 2,500 documents. "
      ],
      "metadata": {
        "id": "F4YiNE1aukQz"
      }
    },
    {
      "cell_type": "code",
      "source": [
        "%%capture\n",
        "from txtai.embeddings import Embeddings \n",
        "import json \n",
        "from google.colab import drive \n",
        "import pandas as pd \n",
        "\n",
        "drive.mount('/content/drive', force_remount = True) # gives access to google drive for my account \n",
        "\n",
        "# create a dictionary with one key\n",
        "# which is the model we need to vectorize the corpus \n",
        "\n",
        "# Create embeddings model, backed by sentence-transformers & transformers\n",
        "embeddings = Embeddings({\"path\": \"sentence-transformers/nli-mpnet-base-v2\"})\n",
        "# load data from Google Drive \n",
        "with open(\"/content/drive/MyDrive/Colab Notebooks/Data/vol7.json\", \"r\") as f: \n",
        "  data = json.load(f)['descriptions'][:2500]\n",
        "\n"
      ],
      "metadata": {
        "id": "J9bqH4Pkg8t4"
      },
      "execution_count": 4,
      "outputs": []
    },
    {
      "cell_type": "code",
      "source": [
        "# examine length of data\n",
        "len(data) "
      ],
      "metadata": {
        "colab": {
          "base_uri": "https://localhost:8080/"
        },
        "id": "egaoapd0tl5s",
        "outputId": "757397c7-e840-4515-8704-8885d53ad859"
      },
      "execution_count": 5,
      "outputs": [
        {
          "output_type": "execute_result",
          "data": {
            "text/plain": [
              "2500"
            ]
          },
          "metadata": {},
          "execution_count": 5
        }
      ]
    },
    {
      "cell_type": "code",
      "source": [
        "data[0]"
      ],
      "metadata": {
        "colab": {
          "base_uri": "https://localhost:8080/",
          "height": 88
        },
        "id": "guTusHEaiiSX",
        "outputId": "29c22f86-9d91-4720-b5f7-4ae99e1d2cde"
      },
      "execution_count": 6,
      "outputs": [
        {
          "output_type": "execute_result",
          "data": {
            "text/plain": [
              "\"An ANCYL member who was shot and severely injured by SAP members at Lephoi, Bethulie, Orange Free State (OFS) on 17 April 1991. Police opened fire on a gathering at an ANC supporter's house following a dispute between two neighbours, one of whom was linked to the ANC and the other to the SAP and a councillor.\""
            ],
            "application/vnd.google.colaboratory.intrinsic+json": {
              "type": "string"
            }
          },
          "metadata": {},
          "execution_count": 6
        }
      ]
    },
    {
      "cell_type": "code",
      "source": [
        "txtai_data = [] \n",
        "i = 0\n",
        "for text in data: \n",
        "  txtai_data.append((i, text , None))\n",
        "  i = i + 1\n",
        "txtai_data[0]"
      ],
      "metadata": {
        "colab": {
          "base_uri": "https://localhost:8080/"
        },
        "id": "d_OnojzwjScS",
        "outputId": "89719cdb-60ae-48c2-bb1b-1ad2127e1158"
      },
      "execution_count": 7,
      "outputs": [
        {
          "output_type": "execute_result",
          "data": {
            "text/plain": [
              "(0,\n",
              " \"An ANCYL member who was shot and severely injured by SAP members at Lephoi, Bethulie, Orange Free State (OFS) on 17 April 1991. Police opened fire on a gathering at an ANC supporter's house following a dispute between two neighbours, one of whom was linked to the ANC and the other to the SAP and a councillor.\",\n",
              " None)"
            ]
          },
          "metadata": {},
          "execution_count": 7
        }
      ]
    },
    {
      "cell_type": "code",
      "source": [
        "# create embeddings \n",
        "# this will take a bit! \n",
        "embeddings.index(txtai_data)"
      ],
      "metadata": {
        "id": "5PQGSO__jxSo"
      },
      "execution_count": 8,
      "outputs": []
    },
    {
      "cell_type": "markdown",
      "source": [
        "Once we've created the embeddings, we can query the data at a semantic level, meaning that we can return documents that match our search even if specific keywords are not entered.\n",
        "\n",
        "The example below asks for documents related to the word knife, which will include docs that use the word but also docs that use similar themes though without the exact keywords, knife, that we put into the search. "
      ],
      "metadata": {
        "id": "mWAjsJFEHcUf"
      }
    },
    {
      "cell_type": "code",
      "source": [
        "res = embeddings.search(\"protest\", 10)\n",
        "\n",
        "# print doc number and the similarity score \n",
        "for item in res: \n",
        "  print(item) "
      ],
      "metadata": {
        "id": "EP2ux2fokDez",
        "colab": {
          "base_uri": "https://localhost:8080/"
        },
        "outputId": "68586016-62db-4f3e-e329-504b556bc75f"
      },
      "execution_count": 9,
      "outputs": [
        {
          "output_type": "stream",
          "name": "stdout",
          "text": [
            "(1426, 0.4392104744911194)\n",
            "(2203, 0.4273015260696411)\n",
            "(122, 0.4196664094924927)\n",
            "(2307, 0.4092385768890381)\n",
            "(3, 0.40719857811927795)\n",
            "(2349, 0.4065841734409332)\n",
            "(31, 0.4040210247039795)\n",
            "(1419, 0.4027186334133148)\n",
            "(2464, 0.39241018891334534)\n",
            "(547, 0.38735347986221313)\n"
          ]
        }
      ]
    },
    {
      "cell_type": "code",
      "source": [
        "# print out documents that are similar to our search terms \n",
        "res = embeddings.search(\"protest\", 10)\n",
        "for r in res: \n",
        "  print(f\"Text: {data[r[0]]}\")\n",
        "  print(f\"Similarity: {r[1]}\")\n",
        "  print() "
      ],
      "metadata": {
        "colab": {
          "base_uri": "https://localhost:8080/"
        },
        "id": "m1NFIrlSy0dM",
        "outputId": "1b38a6f6-ab30-4c54-cdba-a763dc969edd"
      },
      "execution_count": 10,
      "outputs": [
        {
          "output_type": "stream",
          "name": "stdout",
          "text": [
            "Text: Was injured on his right leg when he was knocked over by a police van in Klipplaat, Cape, on 13 May 1985, during a political protest in the area, which involved protesters toyi-toying and singing freedom songs in the street.\n",
            "Similarity: 0.4392104744911194\n",
            "\n",
            "Text: Was shot and injured by members of the SAP during a protest against racial discrimination in the use of beach facilities in Durban, on 1 January 1986. People claiming to be PAC supporters assaulted ‘whites’ and police fired shots randomly in an attempt to disperse the crowd.\n",
            "Similarity: 0.4273015260696411\n",
            "\n",
            "Text: A UDF supporter who was injured in a drive-by shooting by named members of the Municipal Police during protests over the Black Local Authority in Fort Beaufort, Cape, on 30 November 1985.\n",
            "Similarity: 0.4196664094924927\n",
            "\n",
            "Text: A UDF supporter who was severely injured when he was hit with pellets by named Special Constables during protests in Hofmeyr, Cape, on 10 February 1988.\n",
            "Similarity: 0.4092385768890381\n",
            "\n",
            "Text: A COSAS supporter who was kicked and beaten with batons and rifle-butts by members of the Ciskei Police during protests against the Ciskei government at Zwelitsha and Mdantsane, Ciskei, in September 1985.\n",
            "Similarity: 0.40719857811927795\n",
            "\n",
            "Text: His knee was injured when police fired shots into a crowd of demonstrating students during school boycotts in Adelaide, Cape, in March 1981.\n",
            "Similarity: 0.4065841734409332\n",
            "\n",
            "Text: Was shot and injured by named SAP members during a legal protest march in Wolseley, Cape, on 24 November 1990.\n",
            "Similarity: 0.4040210247039795\n",
            "\n",
            "Text: A SANCO member who was injured in a shooting on 1 April 1986 during widespread protests in Stutterheim, Cape.\n",
            "Similarity: 0.4027186334133148\n",
            "\n",
            "Text: A student activist who was beaten and tortured by members of the SAP at the police station in Richmond, Cape, in October 1985, during a period of student protest.\n",
            "Similarity: 0.39241018891334534\n",
            "\n",
            "Text: An ANC supporter who was shot and injured when police opened fire on protesters returning from an ANC-organised march in Ditlhake, Koffiefontein, Orange Free State, in April 1990.\n",
            "Similarity: 0.38735347986221313\n",
            "\n"
          ]
        }
      ]
    },
    {
      "cell_type": "markdown",
      "source": [
        "Next, we can save the embeddings index for use on future data. "
      ],
      "metadata": {
        "id": "v9BqRYuj0ZvZ"
      }
    },
    {
      "cell_type": "code",
      "source": [
        "embeddings.save(\"/content/drive/MyDrive/Colab Notebooks/Models/embeddings_model1\") "
      ],
      "metadata": {
        "id": "FpGIzZVe0eLY"
      },
      "execution_count": 11,
      "outputs": []
    },
    {
      "cell_type": "markdown",
      "source": [],
      "metadata": {
        "id": "AyKiYAGE96gB"
      }
    },
    {
      "cell_type": "markdown",
      "source": [
        "Trained embeddings models can be saved so that they can be used on future data. In the code above, I've saved the model to the 'Models' folder in my drive. Next, the code below can be used in a separate notebook to load the trained model. Note, when connecting to a new runtime in Colab, you'll need to re-install txtai, and reconnect to drive, etc. "
      ],
      "metadata": {
        "id": "YSysPceZI8Bn"
      }
    },
    {
      "cell_type": "code",
      "source": [
        "%%capture\n",
        "embeddings.load(\"/content/drive/MyDrive/Colab Notebooks/Models/embeddings_model1\") \n"
      ],
      "metadata": {
        "id": "J6PzNrDh-UuP"
      },
      "execution_count": 12,
      "outputs": []
    },
    {
      "cell_type": "code",
      "source": [
        "# import data (here, it's the same data set) \n",
        "import json\n",
        "with open(\"/content/drive/MyDrive/Colab Notebooks/Data/vol7.json\", \"r\") as f: \n",
        "  data = json.load(f)['descriptions'][:2500]\n",
        "\n",
        "# test out the search tool on the data \n",
        "  res = embeddings.search(\"Cape Town\", 10)\n",
        "for r in res: \n",
        "  print(f\"Text: {data[r[0]]}\")\n",
        "  print(f\"Similarity: {r[1]}\")\n",
        "  print() "
      ],
      "metadata": {
        "colab": {
          "base_uri": "https://localhost:8080/"
        },
        "id": "atfGTMy--pUU",
        "outputId": "310bad66-0708-4da1-f31a-db02d3951352"
      },
      "execution_count": 13,
      "outputs": [
        {
          "output_type": "stream",
          "name": "stdout",
          "text": [
            "Text: Was shot and injured by members of the SAP in Langa, Cape Town, in September 1976, after the Soweto uprising had spread to the Cape.\n",
            "Similarity: 0.3715386986732483\n",
            "\n",
            "Text: Was shot by police as he walked down a street in Bonteheuwel, Cape Town, on 17 June 1980, during unrest and protest in the area commemorating the Soweto uprising. As a result of the shooting, he is partially paralysed.\n",
            "Similarity: 0.36472249031066895\n",
            "\n",
            "Text: Was shot with rubber bullets by police in Eersterivier, Cape Town, on 6 July 1993, while participating in a community sit-in demanding improved water services.\n",
            "Similarity: 0.36368122696876526\n",
            "\n",
            "Text: Was shot and injured by SAP members near Crossroads, Cape Town, in February 1987.\n",
            "Similarity: 0.35981452465057373\n",
            "\n",
            "Text: Was shot and injured by members of the SAP in Crossroads, Cape Town, on 20 May 1993, during attempts by a local leader to remove residents from Section 2 by force.\n",
            "Similarity: 0.3529833257198334\n",
            "\n",
            "Text: A UDF supporter from Atlantis, Cape who was arrested and detained under emergency regulations in Pollsmoor Prison, Cape Town, from June to September 1986.\n",
            "Similarity: 0.35123205184936523\n",
            "\n",
            "Text: Was shot dead by a member of the SAP in Hanover Park, Cape Town, on 2 September 1976, a day which saw a peak of unrest and casualties of police shootings across Cape Town during the Soweto uprising.\n",
            "Similarity: 0.3466194272041321\n",
            "\n",
            "Text: A Poqo supporter who was imprisoned for two years on Robben Island in Cape Town, in 1963, after which he was placed under restrictions at Ngqeleni, Cape.\n",
            "Similarity: 0.3425889313220978\n",
            "\n",
            "Text: Was shot and injured by members of the SAP in Clarke Estate, Cape Town, on 16 September 1976, after the Soweto uprising.\n",
            "Similarity: 0.3403840661048889\n",
            "\n",
            "Text: Was severely beaten and shot in the leg in Guguletu, Cape Town, in 1986, during political conflict between Witdoeke vigilantes from Crossroads and UDF supporters in KTC.\n",
            "Similarity: 0.33802685141563416\n",
            "\n"
          ]
        }
      ]
    },
    {
      "cell_type": "markdown",
      "source": [],
      "metadata": {
        "id": "ktVMMgWfjAyA"
      }
    }
  ]
}