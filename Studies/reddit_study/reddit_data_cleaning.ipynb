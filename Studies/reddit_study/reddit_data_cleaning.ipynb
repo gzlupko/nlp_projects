{
  "nbformat": 4,
  "nbformat_minor": 0,
  "metadata": {
    "colab": {
      "provenance": []
    },
    "kernelspec": {
      "name": "python3",
      "display_name": "Python 3"
    },
    "language_info": {
      "name": "python"
    }
  },
  "cells": [
    {
      "cell_type": "markdown",
      "source": [
        "## Data Cleaning\n",
        "\n",
        "Merging all data sets, cleaning, etc"
      ],
      "metadata": {
        "id": "Mr08jaOtCdkf"
      }
    },
    {
      "cell_type": "code",
      "source": [
        "import pandas as pd\n",
        "\n",
        "futurology_data = pd.read_csv('/content/drive/MyDrive/Applied Paper /data/raw data from API /Futorology_subreddit_comments.csv')\n",
        "io_psych_data = pd.read_csv('/content/drive/MyDrive/Applied Paper /data/raw data from API /IOPsychology_subreddit_comments.csv')\n",
        "business_data = pd.read_csv('/content/drive/MyDrive/Applied Paper /data/raw data from API /business_subreddit_comments.csv')\n",
        "consulting_data = pd.read_csv('/content/drive/MyDrive/Applied Paper /data/raw data from API /consulting_subreddit_comments.csv')\n",
        "economics_data1 = pd.read_csv('/content/drive/MyDrive/Applied Paper /data/raw data from API /economics_subreddit_comments.csv')\n",
        "economics_data2 = pd.read_csv('/content/drive/MyDrive/Applied Paper /data/raw data from API /economics-subreddit-data-11-23.csv')\n",
        "hr_data = pd.read_csv('/content/drive/MyDrive/Applied Paper /data/raw data from API /humanresources_subreddit_comments.csv')\n",
        "jobs_data = pd.read_csv('/content/drive/MyDrive/Applied Paper /data/raw data from API /jobs_subreddit_comments.csv')\n",
        "psychology_data = pd.read_csv('/content/drive/MyDrive/Applied Paper /data/raw data from API /psychology_subreddit_comments.csv')\n",
        "recruiting_data = pd.read_csv('/content/drive/MyDrive/Applied Paper /data/raw data from API /recruiting_relevant_subreddit_comments.csv')\n",
        "remotework_data = pd.read_csv('/content/drive/MyDrive/Applied Paper /data/raw data from API /remotework_relevant_subreddit_comments.csv')\n",
        "tech_data = pd.read_csv('/content/drive/MyDrive/Applied Paper /data/raw data from API /tech_subreddit_comments.csv')\n",
        "\n",
        "\n",
        "# Combine the DataFrames\n",
        "combined_data = pd.concat([futurology_data, io_psych_data, business_data, consulting_data,\n",
        "                           economics_data1, economics_data2, hr_data, jobs_data,\n",
        "                           psychology_data, recruiting_data, remotework_data, tech_data], ignore_index=True)\n",
        "\n",
        "# Display information about the combined DataFrame\n",
        "print(combined_data.info())\n",
        "print(len(combined_data))"
      ],
      "metadata": {
        "colab": {
          "base_uri": "https://localhost:8080/"
        },
        "id": "W_8BM25SCjM0",
        "outputId": "8d938b52-3aad-445f-f650-5724fac29a0a"
      },
      "execution_count": null,
      "outputs": [
        {
          "output_type": "stream",
          "name": "stdout",
          "text": [
            "<class 'pandas.core.frame.DataFrame'>\n",
            "RangeIndex: 237045 entries, 0 to 237044\n",
            "Data columns (total 6 columns):\n",
            " #   Column             Non-Null Count   Dtype  \n",
            "---  ------             --------------   -----  \n",
            " 0   comment_id         237044 non-null  object \n",
            " 1   comment_body       237043 non-null  object \n",
            " 2   comment_link_id    237039 non-null  object \n",
            " 3   comment_utc        102298 non-null  object \n",
            " 4   comment_subreddit  102298 non-null  object \n",
            " 5   comment_upvotes    102295 non-null  float64\n",
            "dtypes: float64(1), object(5)\n",
            "memory usage: 10.9+ MB\n",
            "None\n"
          ]
        }
      ]
    },
    {
      "cell_type": "code",
      "source": [
        "# drop duplicate comment_ids\n",
        "combined_data = combined_data.drop_duplicates('comment_id')\n",
        "\n",
        "# convert utc to date time\n",
        "combined_data['date'] = pd.to_datetime(combined_data['comment_utc'], unit='s', utc=True, errors='coerce')\n",
        "\n",
        "len(combined_data)"
      ],
      "metadata": {
        "colab": {
          "base_uri": "https://localhost:8080/"
        },
        "id": "8dLNQXEsEC8L",
        "outputId": "c57ea862-aadc-47fb-b98d-eb67d4f076ee"
      },
      "execution_count": null,
      "outputs": [
        {
          "output_type": "execute_result",
          "data": {
            "text/plain": [
              "187029"
            ]
          },
          "metadata": {},
          "execution_count": 15
        }
      ]
    },
    {
      "cell_type": "code",
      "source": [
        "# store to csv\n",
        "combined_data.to_csv('/content/drive/MyDrive/Applied Paper /data/all_subreddit_comments.csv', index=False)"
      ],
      "metadata": {
        "id": "IqREQtS2D2Vh"
      },
      "execution_count": null,
      "outputs": []
    },
    {
      "cell_type": "code",
      "source": [
        "# inspect\n",
        "print('Earliest date is: ', combined_data.date.min())\n",
        "print('Most recent date is', combined_data.date.max())"
      ],
      "metadata": {
        "colab": {
          "base_uri": "https://localhost:8080/"
        },
        "id": "6hKaC6lSDttR",
        "outputId": "510d1cbc-53e0-439d-e2b0-91b7022c37ec"
      },
      "execution_count": null,
      "outputs": [
        {
          "output_type": "stream",
          "name": "stdout",
          "text": [
            "Earliest date is:  2008-04-04 21:47:24+00:00\n",
            "Most recent date is 2023-11-17 22:26:29+00:00\n"
          ]
        }
      ]
    }
  ]
}