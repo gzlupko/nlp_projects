{
  "cells": [
    {
      "cell_type": "markdown",
      "metadata": {
        "id": "DBBdjOjNAqSj"
      },
      "source": [
        "# Reddit API Data Pull"
      ]
    },
    {
      "cell_type": "code",
      "execution_count": 1,
      "metadata": {
        "colab": {
          "base_uri": "https://localhost:8080/"
        },
        "id": "g8pEEz7pAyI0",
        "outputId": "6ec0d93d-b09b-49ec-cbea-b1fb024812b1"
      },
      "outputs": [
        {
          "name": "stdout",
          "output_type": "stream",
          "text": [
            "Collecting praw\n",
            "  Downloading praw-7.7.1-py3-none-any.whl (191 kB)\n",
            "\u001b[2K     \u001b[90m━━━━━━━━━━━━━━━━━━━━━━━━━━━━━━━━━━━━━━━━\u001b[0m \u001b[32m191.0/191.0 kB\u001b[0m \u001b[31m4.8 MB/s\u001b[0m eta \u001b[36m0:00:00\u001b[0m\n",
            "\u001b[?25hCollecting prawcore<3,>=2.1 (from praw)\n",
            "  Downloading prawcore-2.4.0-py3-none-any.whl (17 kB)\n",
            "Collecting update-checker>=0.18 (from praw)\n",
            "  Downloading update_checker-0.18.0-py3-none-any.whl (7.0 kB)\n",
            "Requirement already satisfied: websocket-client>=0.54.0 in /usr/local/lib/python3.10/dist-packages (from praw) (1.6.4)\n",
            "Requirement already satisfied: requests<3.0,>=2.6.0 in /usr/local/lib/python3.10/dist-packages (from prawcore<3,>=2.1->praw) (2.31.0)\n",
            "Requirement already satisfied: charset-normalizer<4,>=2 in /usr/local/lib/python3.10/dist-packages (from requests<3.0,>=2.6.0->prawcore<3,>=2.1->praw) (3.3.2)\n",
            "Requirement already satisfied: idna<4,>=2.5 in /usr/local/lib/python3.10/dist-packages (from requests<3.0,>=2.6.0->prawcore<3,>=2.1->praw) (3.4)\n",
            "Requirement already satisfied: urllib3<3,>=1.21.1 in /usr/local/lib/python3.10/dist-packages (from requests<3.0,>=2.6.0->prawcore<3,>=2.1->praw) (2.0.7)\n",
            "Requirement already satisfied: certifi>=2017.4.17 in /usr/local/lib/python3.10/dist-packages (from requests<3.0,>=2.6.0->prawcore<3,>=2.1->praw) (2023.7.22)\n",
            "Installing collected packages: update-checker, prawcore, praw\n",
            "Successfully installed praw-7.7.1 prawcore-2.4.0 update-checker-0.18.0\n"
          ]
        }
      ],
      "source": [
        "!pip install praw"
      ]
    },
    {
      "cell_type": "code",
      "execution_count": 13,
      "metadata": {
        "id": "hIq2xorPAp29"
      },
      "outputs": [],
      "source": [
        "import praw\n",
        "\n",
        "# redacted; see personal auth details to use again \n",
        "user_agent = \"\",\n",
        "reddit = praw.Reddit(client_id = \"\",\n",
        "                    client_secret = \"\",\n",
        "                     user_agent = user_agent)"
      ]
    },
    {
      "cell_type": "code",
      "execution_count": 3,
      "metadata": {
        "colab": {
          "base_uri": "https://localhost:8080/"
        },
        "id": "UizGwswo0ucG",
        "outputId": "b82b3a2a-7269-4857-86a6-493271aaeb2c"
      },
      "outputs": [
        {
          "name": "stdout",
          "output_type": "stream",
          "text": [
            "Mounted at /content/drive\n"
          ]
        }
      ],
      "source": [
        "from google.colab import drive\n",
        "drive.mount('/content/drive')"
      ]
    },
    {
      "cell_type": "markdown",
      "metadata": {
        "id": "-mpeoj4ieQPt"
      },
      "source": [
        "Subreddits scraped (case sensitive:\n",
        "\n",
        "\n",
        "\n",
        "*   Psychology\n",
        "*   Economics\n",
        "*   Consulting\n",
        "*   Jobs\n",
        "*   remotework\n",
        "*   humanresources\n",
        "*   recruiting\n",
        "*   tech   \n",
        "*   business\n",
        "\n",
        "\n",
        "To add -\n",
        "*   Futurology\n",
        "*   technology\n",
        "*   Thedaily\n",
        "\n",
        "\n",
        "\n",
        "\n"
      ]
    },
    {
      "cell_type": "code",
      "execution_count": 4,
      "metadata": {
        "id": "8VgVubhlAp6q"
      },
      "outputs": [],
      "source": [
        "# query terms for reddit comments\n",
        "\n",
        "# Initialize empty lists to store data\n",
        "all_post_data = []\n",
        "all_comments_data = []\n",
        "\n",
        "# Filter by these key words\n",
        "query = ['artificial intelligence', 'job security', 'automation', 'robots',\n",
        "         'ai adoption']"
      ]
    },
    {
      "cell_type": "code",
      "execution_count": null,
      "metadata": {
        "id": "0ZP8KR0CBAe6"
      },
      "outputs": [],
      "source": [
        "import pandas as pd\n",
        "\n",
        "# Initialize an empty list to store comment dataframes\n",
        "all_comments_data = []\n",
        "\n",
        "# list of reddit pages to query from\n",
        "sub = ['IOPsychology']\n",
        "\n",
        "# Filter by these key words\n",
        "query = ['artificial intelligence', 'automation', 'robots',\n",
        "         'ai adoption', 'AI','technological disruption',\n",
        "         'technological advancement','technological changes', 'digitalization']\n",
        "for s in sub:\n",
        "    subreddit = reddit.subreddit(s)\n",
        "\n",
        "    for item in query:\n",
        "        comments_dict = {\n",
        "            'comment_id': [],\n",
        "            'comment_body': [],  # text in the comment\n",
        "            'comment_link_id': [], # link to the comment\n",
        "            'comment_utc': [], # time in utc\n",
        "            'comment_subreddit': [],\n",
        "            'comment_upvotes': []\n",
        "        }\n",
        "\n",
        "        # Search for submissions related to the query terms\n",
        "        for submission in subreddit.search(item, sort='relevance', limit=100):\n",
        "            submission.comments.replace_more(limit=0) # limit 0 so we only get comments to post, not threads\n",
        "\n",
        "            # Collect comments associated with the submission\n",
        "            for comment in submission.comments.list():\n",
        "                comments_dict['comment_id'].append(comment.id)\n",
        "                comments_dict['comment_body'].append(comment.body)\n",
        "                comments_dict['comment_link_id'].append(comment.link_id)\n",
        "                comments_dict['comment_utc'].append(comment.created_utc)\n",
        "                comments_dict['comment_subreddit'].append(comment.subreddit)\n",
        "                comments_dict['comment_upvotes'].append(comment.score)\n",
        "\n",
        "        # Append the comments dataframe to the list\n",
        "        all_comments_data.append(pd.DataFrame(comments_dict))\n",
        "\n",
        "# Concatenate all comment dataframes into a single dataframe\n",
        "all_comments_data_df = pd.concat(all_comments_data)\n"
      ]
    },
    {
      "cell_type": "code",
      "execution_count": 23,
      "metadata": {
        "colab": {
          "base_uri": "https://localhost:8080/",
          "height": 238
        },
        "id": "kfnW8boJDM8_",
        "outputId": "43f02f2d-fe2c-4cb3-e9b1-3f208a0c9680"
      },
      "outputs": [
        {
          "name": "stdout",
          "output_type": "stream",
          "text": [
            "1117 before removing duplicates\n",
            "901 after removing duplicates\n"
          ]
        },
        {
          "data": {
            "text/html": [
              "\n",
              "  <div id=\"df-52e92067-6293-43d8-a6bd-218425477569\" class=\"colab-df-container\">\n",
              "    <div>\n",
              "<style scoped>\n",
              "    .dataframe tbody tr th:only-of-type {\n",
              "        vertical-align: middle;\n",
              "    }\n",
              "\n",
              "    .dataframe tbody tr th {\n",
              "        vertical-align: top;\n",
              "    }\n",
              "\n",
              "    .dataframe thead th {\n",
              "        text-align: right;\n",
              "    }\n",
              "</style>\n",
              "<table border=\"1\" class=\"dataframe\">\n",
              "  <thead>\n",
              "    <tr style=\"text-align: right;\">\n",
              "      <th></th>\n",
              "      <th>comment_id</th>\n",
              "      <th>comment_body</th>\n",
              "      <th>comment_link_id</th>\n",
              "      <th>comment_utc</th>\n",
              "      <th>comment_subreddit</th>\n",
              "      <th>comment_upvotes</th>\n",
              "    </tr>\n",
              "  </thead>\n",
              "  <tbody>\n",
              "    <tr>\n",
              "      <th>0</th>\n",
              "      <td>jaw9jzd</td>\n",
              "      <td>Unless AI develops into true intelligence, no,...</td>\n",
              "      <td>t3_11i1l0h</td>\n",
              "      <td>1.677945e+09</td>\n",
              "      <td>IOPsychology</td>\n",
              "      <td>30.0</td>\n",
              "    </tr>\n",
              "    <tr>\n",
              "      <th>1</th>\n",
              "      <td>jawjpmb</td>\n",
              "      <td>So I think organizations are often bad at  ass...</td>\n",
              "      <td>t3_11i1l0h</td>\n",
              "      <td>1.677949e+09</td>\n",
              "      <td>IOPsychology</td>\n",
              "      <td>9.0</td>\n",
              "    </tr>\n",
              "    <tr>\n",
              "      <th>2</th>\n",
              "      <td>jawz3vo</td>\n",
              "      <td>It will replace some jobs. An IO consulting co...</td>\n",
              "      <td>t3_11i1l0h</td>\n",
              "      <td>1.677955e+09</td>\n",
              "      <td>IOPsychology</td>\n",
              "      <td>5.0</td>\n",
              "    </tr>\n",
              "    <tr>\n",
              "      <th>3</th>\n",
              "      <td>jaw5muk</td>\n",
              "      <td>It depends. If AI continue to be things like C...</td>\n",
              "      <td>t3_11i1l0h</td>\n",
              "      <td>1.677943e+09</td>\n",
              "      <td>IOPsychology</td>\n",
              "      <td>8.0</td>\n",
              "    </tr>\n",
              "    <tr>\n",
              "      <th>4</th>\n",
              "      <td>jawrpip</td>\n",
              "      <td>Yes and no. ML can already read language for p...</td>\n",
              "      <td>t3_11i1l0h</td>\n",
              "      <td>1.677952e+09</td>\n",
              "      <td>IOPsychology</td>\n",
              "      <td>9.0</td>\n",
              "    </tr>\n",
              "  </tbody>\n",
              "</table>\n",
              "</div>\n",
              "    <div class=\"colab-df-buttons\">\n",
              "\n",
              "  <div class=\"colab-df-container\">\n",
              "    <button class=\"colab-df-convert\" onclick=\"convertToInteractive('df-52e92067-6293-43d8-a6bd-218425477569')\"\n",
              "            title=\"Convert this dataframe to an interactive table.\"\n",
              "            style=\"display:none;\">\n",
              "\n",
              "  <svg xmlns=\"http://www.w3.org/2000/svg\" height=\"24px\" viewBox=\"0 -960 960 960\">\n",
              "    <path d=\"M120-120v-720h720v720H120Zm60-500h600v-160H180v160Zm220 220h160v-160H400v160Zm0 220h160v-160H400v160ZM180-400h160v-160H180v160Zm440 0h160v-160H620v160ZM180-180h160v-160H180v160Zm440 0h160v-160H620v160Z\"/>\n",
              "  </svg>\n",
              "    </button>\n",
              "\n",
              "  <style>\n",
              "    .colab-df-container {\n",
              "      display:flex;\n",
              "      gap: 12px;\n",
              "    }\n",
              "\n",
              "    .colab-df-convert {\n",
              "      background-color: #E8F0FE;\n",
              "      border: none;\n",
              "      border-radius: 50%;\n",
              "      cursor: pointer;\n",
              "      display: none;\n",
              "      fill: #1967D2;\n",
              "      height: 32px;\n",
              "      padding: 0 0 0 0;\n",
              "      width: 32px;\n",
              "    }\n",
              "\n",
              "    .colab-df-convert:hover {\n",
              "      background-color: #E2EBFA;\n",
              "      box-shadow: 0px 1px 2px rgba(60, 64, 67, 0.3), 0px 1px 3px 1px rgba(60, 64, 67, 0.15);\n",
              "      fill: #174EA6;\n",
              "    }\n",
              "\n",
              "    .colab-df-buttons div {\n",
              "      margin-bottom: 4px;\n",
              "    }\n",
              "\n",
              "    [theme=dark] .colab-df-convert {\n",
              "      background-color: #3B4455;\n",
              "      fill: #D2E3FC;\n",
              "    }\n",
              "\n",
              "    [theme=dark] .colab-df-convert:hover {\n",
              "      background-color: #434B5C;\n",
              "      box-shadow: 0px 1px 3px 1px rgba(0, 0, 0, 0.15);\n",
              "      filter: drop-shadow(0px 1px 2px rgba(0, 0, 0, 0.3));\n",
              "      fill: #FFFFFF;\n",
              "    }\n",
              "  </style>\n",
              "\n",
              "    <script>\n",
              "      const buttonEl =\n",
              "        document.querySelector('#df-52e92067-6293-43d8-a6bd-218425477569 button.colab-df-convert');\n",
              "      buttonEl.style.display =\n",
              "        google.colab.kernel.accessAllowed ? 'block' : 'none';\n",
              "\n",
              "      async function convertToInteractive(key) {\n",
              "        const element = document.querySelector('#df-52e92067-6293-43d8-a6bd-218425477569');\n",
              "        const dataTable =\n",
              "          await google.colab.kernel.invokeFunction('convertToInteractive',\n",
              "                                                    [key], {});\n",
              "        if (!dataTable) return;\n",
              "\n",
              "        const docLinkHtml = 'Like what you see? Visit the ' +\n",
              "          '<a target=\"_blank\" href=https://colab.research.google.com/notebooks/data_table.ipynb>data table notebook</a>'\n",
              "          + ' to learn more about interactive tables.';\n",
              "        element.innerHTML = '';\n",
              "        dataTable['output_type'] = 'display_data';\n",
              "        await google.colab.output.renderOutput(dataTable, element);\n",
              "        const docLink = document.createElement('div');\n",
              "        docLink.innerHTML = docLinkHtml;\n",
              "        element.appendChild(docLink);\n",
              "      }\n",
              "    </script>\n",
              "  </div>\n",
              "\n",
              "\n",
              "<div id=\"df-a0e58367-d25f-4b32-93e0-624bef75c1d3\">\n",
              "  <button class=\"colab-df-quickchart\" onclick=\"quickchart('df-a0e58367-d25f-4b32-93e0-624bef75c1d3')\"\n",
              "            title=\"Suggest charts\"\n",
              "            style=\"display:none;\">\n",
              "\n",
              "<svg xmlns=\"http://www.w3.org/2000/svg\" height=\"24px\"viewBox=\"0 0 24 24\"\n",
              "     width=\"24px\">\n",
              "    <g>\n",
              "        <path d=\"M19 3H5c-1.1 0-2 .9-2 2v14c0 1.1.9 2 2 2h14c1.1 0 2-.9 2-2V5c0-1.1-.9-2-2-2zM9 17H7v-7h2v7zm4 0h-2V7h2v10zm4 0h-2v-4h2v4z\"/>\n",
              "    </g>\n",
              "</svg>\n",
              "  </button>\n",
              "\n",
              "<style>\n",
              "  .colab-df-quickchart {\n",
              "      --bg-color: #E8F0FE;\n",
              "      --fill-color: #1967D2;\n",
              "      --hover-bg-color: #E2EBFA;\n",
              "      --hover-fill-color: #174EA6;\n",
              "      --disabled-fill-color: #AAA;\n",
              "      --disabled-bg-color: #DDD;\n",
              "  }\n",
              "\n",
              "  [theme=dark] .colab-df-quickchart {\n",
              "      --bg-color: #3B4455;\n",
              "      --fill-color: #D2E3FC;\n",
              "      --hover-bg-color: #434B5C;\n",
              "      --hover-fill-color: #FFFFFF;\n",
              "      --disabled-bg-color: #3B4455;\n",
              "      --disabled-fill-color: #666;\n",
              "  }\n",
              "\n",
              "  .colab-df-quickchart {\n",
              "    background-color: var(--bg-color);\n",
              "    border: none;\n",
              "    border-radius: 50%;\n",
              "    cursor: pointer;\n",
              "    display: none;\n",
              "    fill: var(--fill-color);\n",
              "    height: 32px;\n",
              "    padding: 0;\n",
              "    width: 32px;\n",
              "  }\n",
              "\n",
              "  .colab-df-quickchart:hover {\n",
              "    background-color: var(--hover-bg-color);\n",
              "    box-shadow: 0 1px 2px rgba(60, 64, 67, 0.3), 0 1px 3px 1px rgba(60, 64, 67, 0.15);\n",
              "    fill: var(--button-hover-fill-color);\n",
              "  }\n",
              "\n",
              "  .colab-df-quickchart-complete:disabled,\n",
              "  .colab-df-quickchart-complete:disabled:hover {\n",
              "    background-color: var(--disabled-bg-color);\n",
              "    fill: var(--disabled-fill-color);\n",
              "    box-shadow: none;\n",
              "  }\n",
              "\n",
              "  .colab-df-spinner {\n",
              "    border: 2px solid var(--fill-color);\n",
              "    border-color: transparent;\n",
              "    border-bottom-color: var(--fill-color);\n",
              "    animation:\n",
              "      spin 1s steps(1) infinite;\n",
              "  }\n",
              "\n",
              "  @keyframes spin {\n",
              "    0% {\n",
              "      border-color: transparent;\n",
              "      border-bottom-color: var(--fill-color);\n",
              "      border-left-color: var(--fill-color);\n",
              "    }\n",
              "    20% {\n",
              "      border-color: transparent;\n",
              "      border-left-color: var(--fill-color);\n",
              "      border-top-color: var(--fill-color);\n",
              "    }\n",
              "    30% {\n",
              "      border-color: transparent;\n",
              "      border-left-color: var(--fill-color);\n",
              "      border-top-color: var(--fill-color);\n",
              "      border-right-color: var(--fill-color);\n",
              "    }\n",
              "    40% {\n",
              "      border-color: transparent;\n",
              "      border-right-color: var(--fill-color);\n",
              "      border-top-color: var(--fill-color);\n",
              "    }\n",
              "    60% {\n",
              "      border-color: transparent;\n",
              "      border-right-color: var(--fill-color);\n",
              "    }\n",
              "    80% {\n",
              "      border-color: transparent;\n",
              "      border-right-color: var(--fill-color);\n",
              "      border-bottom-color: var(--fill-color);\n",
              "    }\n",
              "    90% {\n",
              "      border-color: transparent;\n",
              "      border-bottom-color: var(--fill-color);\n",
              "    }\n",
              "  }\n",
              "</style>\n",
              "\n",
              "  <script>\n",
              "    async function quickchart(key) {\n",
              "      const quickchartButtonEl =\n",
              "        document.querySelector('#' + key + ' button');\n",
              "      quickchartButtonEl.disabled = true;  // To prevent multiple clicks.\n",
              "      quickchartButtonEl.classList.add('colab-df-spinner');\n",
              "      try {\n",
              "        const charts = await google.colab.kernel.invokeFunction(\n",
              "            'suggestCharts', [key], {});\n",
              "      } catch (error) {\n",
              "        console.error('Error during call to suggestCharts:', error);\n",
              "      }\n",
              "      quickchartButtonEl.classList.remove('colab-df-spinner');\n",
              "      quickchartButtonEl.classList.add('colab-df-quickchart-complete');\n",
              "    }\n",
              "    (() => {\n",
              "      let quickchartButtonEl =\n",
              "        document.querySelector('#df-a0e58367-d25f-4b32-93e0-624bef75c1d3 button');\n",
              "      quickchartButtonEl.style.display =\n",
              "        google.colab.kernel.accessAllowed ? 'block' : 'none';\n",
              "    })();\n",
              "  </script>\n",
              "</div>\n",
              "    </div>\n",
              "  </div>\n"
            ],
            "text/plain": [
              "  comment_id                                       comment_body  \\\n",
              "0    jaw9jzd  Unless AI develops into true intelligence, no,...   \n",
              "1    jawjpmb  So I think organizations are often bad at  ass...   \n",
              "2    jawz3vo  It will replace some jobs. An IO consulting co...   \n",
              "3    jaw5muk  It depends. If AI continue to be things like C...   \n",
              "4    jawrpip  Yes and no. ML can already read language for p...   \n",
              "\n",
              "  comment_link_id   comment_utc comment_subreddit  comment_upvotes  \n",
              "0      t3_11i1l0h  1.677945e+09      IOPsychology             30.0  \n",
              "1      t3_11i1l0h  1.677949e+09      IOPsychology              9.0  \n",
              "2      t3_11i1l0h  1.677955e+09      IOPsychology              5.0  \n",
              "3      t3_11i1l0h  1.677943e+09      IOPsychology              8.0  \n",
              "4      t3_11i1l0h  1.677952e+09      IOPsychology              9.0  "
            ]
          },
          "execution_count": 23,
          "metadata": {},
          "output_type": "execute_result"
        }
      ],
      "source": [
        "print(len(all_comments_data_df), 'before removing duplicates')\n",
        "\n",
        "# remove duplicates\n",
        "all_comments_data_df = all_comments_data_df.drop_duplicates('comment_id')\n",
        "\n",
        "# new comment count after removing duplicates\n",
        "print(len(all_comments_data_df), 'after removing duplicates')\n",
        "all_comments_data_df.head()"
      ]
    },
    {
      "cell_type": "code",
      "execution_count": 24,
      "metadata": {
        "id": "djDqIBZKDMCV"
      },
      "outputs": [],
      "source": [
        "# Save to a single CSV file\n",
        "all_comments_data_df.to_csv('/content/drive/MyDrive/Applied Paper /data/raw data from API /IOPsychology_subreddit_comments.csv', index=False)"
      ]
    },
    {
      "cell_type": "code",
      "execution_count": 25,
      "metadata": {
        "colab": {
          "base_uri": "https://localhost:8080/"
        },
        "id": "QOQkcQkX15LW",
        "outputId": "697ff9a0-dc79-47b4-ffbf-ce5923de224b"
      },
      "outputs": [
        {
          "data": {
            "text/plain": [
              "0    Unless AI develops into true intelligence, no,...\n",
              "1    So I think organizations are often bad at  ass...\n",
              "2    It will replace some jobs. An IO consulting co...\n",
              "3    It depends. If AI continue to be things like C...\n",
              "4    Yes and no. ML can already read language for p...\n",
              "Name: comment_body, dtype: object"
            ]
          },
          "execution_count": 25,
          "metadata": {},
          "output_type": "execute_result"
        }
      ],
      "source": [
        "len(all_comments_data_df)\n",
        "all_comments_data_df.comment_body.head()"
      ]
    },
    {
      "cell_type": "code",
      "execution_count": 26,
      "metadata": {
        "colab": {
          "base_uri": "https://localhost:8080/"
        },
        "id": "Ir-OENJV16Hd",
        "outputId": "2e539900-de0f-43fd-b0bd-75b88255a597"
      },
      "outputs": [
        {
          "data": {
            "text/plain": [
              "Timestamp('2013-02-01 14:40:28+0000', tz='UTC')"
            ]
          },
          "execution_count": 26,
          "metadata": {},
          "output_type": "execute_result"
        }
      ],
      "source": [
        "all_comments_data_df['date'] = pd.to_datetime(all_comments_data_df['comment_utc'], unit='s', utc=True)\n",
        "all_comments_data_df['date'].min()\n",
        "all_comments_data_df['date'].min()"
      ]
    }
  ],
  "metadata": {
    "accelerator": "GPU",
    "colab": {
      "gpuType": "T4",
      "provenance": []
    },
    "kernelspec": {
      "display_name": "Python 3",
      "name": "python3"
    },
    "language_info": {
      "name": "python"
    }
  },
  "nbformat": 4,
  "nbformat_minor": 0
}
